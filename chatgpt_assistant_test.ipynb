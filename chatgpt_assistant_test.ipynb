{
  "nbformat": 4,
  "nbformat_minor": 0,
  "metadata": {
    "colab": {
      "provenance": [],
      "authorship_tag": "ABX9TyMdx/FlWaprgeDhe39pgbC3",
      "include_colab_link": true
    },
    "kernelspec": {
      "name": "python3",
      "display_name": "Python 3"
    },
    "language_info": {
      "name": "python"
    }
  },
  "cells": [
    {
      "cell_type": "markdown",
      "metadata": {
        "id": "view-in-github",
        "colab_type": "text"
      },
      "source": [
        "<a href=\"https://colab.research.google.com/github/25b3nk/llm-projects/blob/main/chatgpt_assistant_test.ipynb\" target=\"_parent\"><img src=\"https://colab.research.google.com/assets/colab-badge.svg\" alt=\"Open In Colab\"/></a>"
      ]
    },
    {
      "cell_type": "code",
      "execution_count": null,
      "metadata": {
        "id": "H0Rm5Z7Htuf5"
      },
      "outputs": [],
      "source": [
        "from openai import OpenAI\n",
        "from google.colab import userdata\n",
        "import glob"
      ]
    },
    {
      "cell_type": "markdown",
      "source": [],
      "metadata": {
        "id": "-HrMW805vEFm"
      }
    },
    {
      "cell_type": "code",
      "source": [
        "openai_api_key = userdata.get('OPENAI_API_KEY')\n",
        "client = OpenAI(api_key=openai_api_key)\n",
        "# client = OpenAI()"
      ],
      "metadata": {
        "id": "k8qUqDDrvEj_"
      },
      "execution_count": null,
      "outputs": []
    },
    {
      "cell_type": "code",
      "source": [
        "assistant = client.beta.assistants.create(\n",
        "name=\"Financial Analyst Assistant\",\n",
        "# instructions=\"You are an expert financial analyst. Use you knowledge base to answer questions about audited financial statements.\",\n",
        "instructions=\"You are an helper chat assistant to a company. Use you knowledge base to answer questions about the company and related stuff. If you do not know the answer, tell so.\",\n",
        "model=\"gpt-4o\",\n",
        "tools=[{\"type\": \"file_search\"}],\n",
        ")"
      ],
      "metadata": {
        "id": "DgYrgKglvKcQ"
      },
      "execution_count": null,
      "outputs": []
    },
    {
      "cell_type": "code",
      "source": [
        "# Create a vector store caled \"Financial Statements\"\n",
        "vector_store = client.beta.vector_stores.create(name=\"Insure LLM\")\n",
        "\n",
        "# Ready the files for upload to OpenAI\n",
        "# file_paths = [\"edgar/goog-10k.pdf\", \"edgar/brka-10k.txt\"]\n",
        "file_paths = glob.glob(\"knowledge-base/**/*.md\")\n",
        "\n",
        "print(file_paths)\n",
        "\n"
      ],
      "metadata": {
        "colab": {
          "base_uri": "https://localhost:8080/"
        },
        "id": "IQPytNlaw1YB",
        "outputId": "f6ff6558-e1cf-468a-ddc8-71e6973fe323"
      },
      "execution_count": null,
      "outputs": [
        {
          "output_type": "stream",
          "name": "stdout",
          "text": [
            "['knowledge-base/company/careers.md', 'knowledge-base/company/about.md', 'knowledge-base/company/overview.md', 'knowledge-base/contracts/Contract with Roadway Insurance Inc. for Carllm.md', 'knowledge-base/contracts/Contract with EverGuard Insurance for Rellm.md', 'knowledge-base/contracts/Contract with Stellar Insurance Co. for Rellm.md', 'knowledge-base/contracts/Contract with Pinnacle Insurance Co. for Homellm.md', 'knowledge-base/contracts/Contract with Apex Reinsurance for Rellm.md', 'knowledge-base/contracts/Contract with TechDrive Insurance for Carllm.md', 'knowledge-base/contracts/Contract with Greenstone Insurance for Homellm.md', 'knowledge-base/contracts/Contract with Belvedere Insurance for Markellm.md', 'knowledge-base/contracts/Contract with BrightWay Solutions for Markellm.md', 'knowledge-base/contracts/Contract with GreenField Holdings for Markellm.md', 'knowledge-base/contracts/Contract with GreenValley Insurance for Homellm.md', 'knowledge-base/contracts/Contract with Velocity Auto Solutions for Carllm.md', 'knowledge-base/employees/Alex Harper.md', 'knowledge-base/employees/Alex Thomson.md', 'knowledge-base/employees/Maxine Thompson.md', 'knowledge-base/employees/Samantha Greene.md', 'knowledge-base/employees/Emily Carter.md', 'knowledge-base/employees/Oliver Spencer.md', 'knowledge-base/employees/Jordan K. Bishop.md', 'knowledge-base/employees/Alex Chen.md', 'knowledge-base/employees/Emily Tran.md', 'knowledge-base/employees/Avery Lancaster.md', 'knowledge-base/employees/Samuel Trenton.md', 'knowledge-base/employees/Jordan Blake.md', 'knowledge-base/products/Markellm.md', 'knowledge-base/products/Carllm.md', 'knowledge-base/products/Rellm.md', 'knowledge-base/products/Homellm.md']\n"
          ]
        }
      ]
    },
    {
      "cell_type": "code",
      "source": [
        "# Open the files for reading\n",
        "file_streams = [open(path, \"rb\") for path in file_paths]\n",
        "\n",
        "# Use the upload and poll SDK helper to upload the files, add them to the vector store,\n",
        "# and poll the status of the file batch for completion.\n",
        "file_batch = client.beta.vector_stores.file_batches.upload_and_poll(\n",
        "vector_store_id=vector_store.id, files=file_streams\n",
        ")\n",
        "\n",
        "# You can print the status and the file counts of the batch to see the result of this operation.\n",
        "print(file_batch.status)\n",
        "print(file_batch.file_counts)"
      ],
      "metadata": {
        "colab": {
          "base_uri": "https://localhost:8080/"
        },
        "id": "SOYExteWxalP",
        "outputId": "24b8bb83-7f84-4218-b1be-bfbad38ff43f"
      },
      "execution_count": null,
      "outputs": [
        {
          "output_type": "stream",
          "name": "stdout",
          "text": [
            "completed\n",
            "FileCounts(cancelled=0, completed=31, failed=0, in_progress=0, total=31)\n"
          ]
        }
      ]
    },
    {
      "cell_type": "code",
      "source": [
        "# Update assistant to use the new vector store\n",
        "assistant = client.beta.assistants.update(\n",
        "assistant_id=assistant.id,\n",
        "tool_resources={\"file_search\": {\"vector_store_ids\": [vector_store.id]}},\n",
        ")"
      ],
      "metadata": {
        "id": "Z1KzYXPExqIy"
      },
      "execution_count": null,
      "outputs": []
    },
    {
      "cell_type": "code",
      "source": [
        "assistant"
      ],
      "metadata": {
        "colab": {
          "base_uri": "https://localhost:8080/"
        },
        "id": "XqYuendsykh1",
        "outputId": "def250da-8afe-4a16-ed7a-dfd0a2256b81"
      },
      "execution_count": null,
      "outputs": [
        {
          "output_type": "execute_result",
          "data": {
            "text/plain": [
              "Assistant(id='asst_2dJjaR898B5kazHde1BKtMlD', created_at=1737478068, description=None, instructions='You are an helper chat assistant to a company. Use you knowledge base to answer questions about the company and related stuff. If you do not know the answer, tell so.', metadata={}, model='gpt-4o', name='Financial Analyst Assistant', object='assistant', tools=[FileSearchTool(type='file_search', file_search=FileSearch(max_num_results=None, ranking_options=FileSearchRankingOptions(score_threshold=0.0, ranker='default_2024_08_21')))], response_format='auto', temperature=1.0, tool_resources=ToolResources(code_interpreter=None, file_search=ToolResourcesFileSearch(vector_store_ids=['vs_FUb0lgqCUDrvKuKYq2i7Spgm'])), top_p=1.0)"
            ]
          },
          "metadata": {},
          "execution_count": 12
        }
      ]
    },
    {
      "cell_type": "code",
      "source": [
        "# Upload the user provided file to OpenAI\n",
        "message_file = client.files.create(\n",
        "file=open(\"knowledge-base/employees/Alex Chen.md\", \"rb\"), purpose=\"assistants\"\n",
        ")\n",
        "\n",
        "# Create a thread and attach the file to the message\n",
        "thread = client.beta.threads.create(\n",
        "messages=[\n",
        "  {\n",
        "    \"role\": \"user\",\n",
        "    \"content\": \"When was Alex born ?\",\n",
        "    # Attach the new file to the message.\n",
        "    \"attachments\": [\n",
        "      { \"file_id\": message_file.id, \"tools\": [{\"type\": \"file_search\"}] }\n",
        "    ],\n",
        "  }\n",
        "]\n",
        ")\n",
        "\n",
        "# The thread now has a vector store with that file in its tool resources.\n",
        "print(thread.tool_resources.file_search)"
      ],
      "metadata": {
        "colab": {
          "base_uri": "https://localhost:8080/"
        },
        "id": "VkKw8kSk1Q2D",
        "outputId": "2d9979f2-e7ae-452a-c1c4-7b41d586cedc"
      },
      "execution_count": null,
      "outputs": [
        {
          "output_type": "stream",
          "name": "stdout",
          "text": [
            "ToolResourcesFileSearch(vector_store_ids=['vs_WDqAiDiCgrJfSqKNUa4hwuuM'])\n"
          ]
        }
      ]
    },
    {
      "cell_type": "code",
      "source": [
        "# Use the create and poll SDK helper to create a run and poll the status of\n",
        "# the run until it's in a terminal state.\n",
        "\n",
        "run = client.beta.threads.runs.create_and_poll(\n",
        "  thread_id=thread.id, assistant_id=assistant.id\n",
        ")\n",
        "\n",
        "messages = list(client.beta.threads.messages.list(thread_id=thread.id, run_id=run.id))\n",
        "\n",
        "message_content = messages[0].content[0].text\n",
        "annotations = message_content.annotations\n",
        "citations = []\n",
        "for index, annotation in enumerate(annotations):\n",
        "  message_content.value = message_content.value.replace(annotation.text, f\"[{index}]\")\n",
        "  if file_citation := getattr(annotation, \"file_citation\", None):\n",
        "      cited_file = client.files.retrieve(file_citation.file_id)\n",
        "      citations.append(f\"[{index}] {cited_file.filename}\")\n",
        "\n",
        "print(message_content.value)\n",
        "print(\"\\n\".join(citations))"
      ],
      "metadata": {
        "colab": {
          "base_uri": "https://localhost:8080/"
        },
        "id": "PIru6lKY1wt3",
        "outputId": "1501b037-0215-4d44-c495-ab8d4c45d003"
      },
      "execution_count": 15,
      "outputs": [
        {
          "output_type": "stream",
          "name": "stdout",
          "text": [
            "Could you tell me more about Avery's mentions in the documents?\n",
            "\n"
          ]
        }
      ]
    },
    {
      "cell_type": "code",
      "source": [
        "thread = client.beta.threads.create(\n",
        "messages=[\n",
        "  {\n",
        "    \"role\": \"user\",\n",
        "    \"content\": \"What is the name of the company ?\",\n",
        "  }\n",
        "]\n",
        ")"
      ],
      "metadata": {
        "id": "Fp3oPB4I2mDz"
      },
      "execution_count": 21,
      "outputs": []
    },
    {
      "cell_type": "code",
      "source": [
        "run = client.beta.threads.runs.create_and_poll(\n",
        "  thread_id=thread.id, assistant_id=assistant.id\n",
        ")\n",
        "\n",
        "messages = list(client.beta.threads.messages.list(thread_id=thread.id, run_id=run.id))\n",
        "print(len(messages))"
      ],
      "metadata": {
        "colab": {
          "base_uri": "https://localhost:8080/"
        },
        "id": "sAaaIJVz2yMy",
        "outputId": "a7ad99c6-1103-420e-fa17-b5b92b31bfbb"
      },
      "execution_count": 22,
      "outputs": [
        {
          "output_type": "stream",
          "name": "stdout",
          "text": [
            "1\n"
          ]
        }
      ]
    },
    {
      "cell_type": "code",
      "source": [
        "message_content = messages[0].content[0].text\n",
        "annotations = message_content.annotations\n",
        "citations = []\n",
        "for index, annotation in enumerate(annotations):\n",
        "  message_content.value = message_content.value.replace(annotation.text, f\"[{index}]\")\n",
        "  if file_citation := getattr(annotation, \"file_citation\", None):\n",
        "      cited_file = client.files.retrieve(file_citation.file_id)\n",
        "      citations.append(f\"[{index}] {cited_file.filename}\")\n",
        "\n",
        "print(message_content.value)\n",
        "print(\"\\n\".join(citations))"
      ],
      "metadata": {
        "colab": {
          "base_uri": "https://localhost:8080/"
        },
        "id": "_rgvY0Z422fd",
        "outputId": "2a1ea344-0c81-41a3-b588-d5b6fa4d3a31"
      },
      "execution_count": 23,
      "outputs": [
        {
          "output_type": "stream",
          "name": "stdout",
          "text": [
            "The name of the company is Insurellm[0].\n",
            "[0] about.md\n"
          ]
        }
      ]
    },
    {
      "cell_type": "code",
      "source": [],
      "metadata": {
        "id": "dOtB727g3auw"
      },
      "execution_count": null,
      "outputs": []
    }
  ]
}